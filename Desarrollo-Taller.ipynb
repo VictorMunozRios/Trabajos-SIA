{
  "cells": [
    {
      "cell_type": "markdown",
      "metadata": {
        "id": "bPdxdwVHAu6G"
      },
      "source": [
        "### TALLER FORMATIVO ANALITICA DESCRIPTIVA CON PYTHON. \n",
        "- Nombre: Victor Muñoz Rios\n",
        "#### A partir de lo visto en clases y referencias bibliograficas realice lo siguiente:\n",
        "* Cargue el dataset CSV en algun repositorio y posteriormente copie la ruta de acceso.\n",
        "* Por cada linea de codigo, agregue una linea de texto (Markdown) con la interpretación de los resultados obtenidos.\n",
        "* Haciendo uso de todo lo aprendido y otras que usted haya indagado, agregue al final del notebook 3 ejemplos de analitica descriptiva nuevas (código e interpretación)\n",
        "* Agregue a su notebook texto smartdown que sea necesario para explicar la metodologia utilizada en el desarrollo de este ejercicio, a manera de reporte para ser leido por la comunidad de interés.\n",
        "* Suba su jupyter notebook (con el desarrollo de este taller) a un repositorio publico de su cuenta personal Github.\n",
        "* Comparta con el grupo curso (profesora y estudiantes) el enlace a su github para apreciar el trabajo realizado. Se sugiere crear un repositorio de la asignatura para estos trabajos.\n",
        "* NOTA: el trabajo es individual."
      ]
    },
    {
      "cell_type": "markdown",
      "metadata": {
        "id": "bKAa3LZNxLdc"
      },
      "source": [
        "### Ejercicio\n",
        "* A partir de la sigueinte referencia"
      ]
    },
    {
      "cell_type": "code",
      "execution_count": 5,
      "metadata": {
        "id": "h-2EotI833bL"
      },
      "outputs": [
        {
          "ename": "ParserError",
          "evalue": "Error tokenizing data. C error: Expected 1 fields in line 120, saw 2\n",
          "output_type": "error",
          "traceback": [
            "\u001b[1;31m---------------------------------------------------------------------------\u001b[0m",
            "\u001b[1;31mParserError\u001b[0m                               Traceback (most recent call last)",
            "\u001b[1;32m~\\AppData\\Local\\Temp/ipykernel_15404/1393635435.py\u001b[0m in \u001b[0;36m<module>\u001b[1;34m\u001b[0m\n\u001b[0;32m      1\u001b[0m \u001b[1;32mimport\u001b[0m \u001b[0mpandas\u001b[0m \u001b[1;32mas\u001b[0m \u001b[0mpd\u001b[0m\u001b[1;33m\u001b[0m\u001b[1;33m\u001b[0m\u001b[0m\n\u001b[0;32m      2\u001b[0m \u001b[0murl\u001b[0m\u001b[1;33m=\u001b[0m\u001b[1;34m'https://github.com/VictorMunozRios/Trabajos-SIA/blob/c2c735962a669ccbc41f2ed8c710015428e05ac8/CardioGoodFitness.csv'\u001b[0m\u001b[1;33m\u001b[0m\u001b[1;33m\u001b[0m\u001b[0m\n\u001b[1;32m----> 3\u001b[1;33m \u001b[0mdf_sports\u001b[0m\u001b[1;33m=\u001b[0m\u001b[0mpd\u001b[0m\u001b[1;33m.\u001b[0m\u001b[0mread_csv\u001b[0m\u001b[1;33m(\u001b[0m\u001b[0murl\u001b[0m\u001b[1;33m)\u001b[0m\u001b[1;33m\u001b[0m\u001b[1;33m\u001b[0m\u001b[0m\n\u001b[0m\u001b[0;32m      4\u001b[0m \u001b[0mdf_sports\u001b[0m\u001b[1;33m\u001b[0m\u001b[1;33m\u001b[0m\u001b[0m\n",
            "\u001b[1;32m~\\AppData\\Local\\Programs\\Python\\Python39\\lib\\site-packages\\pandas\\util\\_decorators.py\u001b[0m in \u001b[0;36mwrapper\u001b[1;34m(*args, **kwargs)\u001b[0m\n\u001b[0;32m    309\u001b[0m                     \u001b[0mstacklevel\u001b[0m\u001b[1;33m=\u001b[0m\u001b[0mstacklevel\u001b[0m\u001b[1;33m,\u001b[0m\u001b[1;33m\u001b[0m\u001b[1;33m\u001b[0m\u001b[0m\n\u001b[0;32m    310\u001b[0m                 )\n\u001b[1;32m--> 311\u001b[1;33m             \u001b[1;32mreturn\u001b[0m \u001b[0mfunc\u001b[0m\u001b[1;33m(\u001b[0m\u001b[1;33m*\u001b[0m\u001b[0margs\u001b[0m\u001b[1;33m,\u001b[0m \u001b[1;33m**\u001b[0m\u001b[0mkwargs\u001b[0m\u001b[1;33m)\u001b[0m\u001b[1;33m\u001b[0m\u001b[1;33m\u001b[0m\u001b[0m\n\u001b[0m\u001b[0;32m    312\u001b[0m \u001b[1;33m\u001b[0m\u001b[0m\n\u001b[0;32m    313\u001b[0m         \u001b[1;32mreturn\u001b[0m \u001b[0mwrapper\u001b[0m\u001b[1;33m\u001b[0m\u001b[1;33m\u001b[0m\u001b[0m\n",
            "\u001b[1;32m~\\AppData\\Local\\Programs\\Python\\Python39\\lib\\site-packages\\pandas\\io\\parsers\\readers.py\u001b[0m in \u001b[0;36mread_csv\u001b[1;34m(filepath_or_buffer, sep, delimiter, header, names, index_col, usecols, squeeze, prefix, mangle_dupe_cols, dtype, engine, converters, true_values, false_values, skipinitialspace, skiprows, skipfooter, nrows, na_values, keep_default_na, na_filter, verbose, skip_blank_lines, parse_dates, infer_datetime_format, keep_date_col, date_parser, dayfirst, cache_dates, iterator, chunksize, compression, thousands, decimal, lineterminator, quotechar, quoting, doublequote, escapechar, comment, encoding, encoding_errors, dialect, error_bad_lines, warn_bad_lines, on_bad_lines, delim_whitespace, low_memory, memory_map, float_precision, storage_options)\u001b[0m\n\u001b[0;32m    584\u001b[0m     \u001b[0mkwds\u001b[0m\u001b[1;33m.\u001b[0m\u001b[0mupdate\u001b[0m\u001b[1;33m(\u001b[0m\u001b[0mkwds_defaults\u001b[0m\u001b[1;33m)\u001b[0m\u001b[1;33m\u001b[0m\u001b[1;33m\u001b[0m\u001b[0m\n\u001b[0;32m    585\u001b[0m \u001b[1;33m\u001b[0m\u001b[0m\n\u001b[1;32m--> 586\u001b[1;33m     \u001b[1;32mreturn\u001b[0m \u001b[0m_read\u001b[0m\u001b[1;33m(\u001b[0m\u001b[0mfilepath_or_buffer\u001b[0m\u001b[1;33m,\u001b[0m \u001b[0mkwds\u001b[0m\u001b[1;33m)\u001b[0m\u001b[1;33m\u001b[0m\u001b[1;33m\u001b[0m\u001b[0m\n\u001b[0m\u001b[0;32m    587\u001b[0m \u001b[1;33m\u001b[0m\u001b[0m\n\u001b[0;32m    588\u001b[0m \u001b[1;33m\u001b[0m\u001b[0m\n",
            "\u001b[1;32m~\\AppData\\Local\\Programs\\Python\\Python39\\lib\\site-packages\\pandas\\io\\parsers\\readers.py\u001b[0m in \u001b[0;36m_read\u001b[1;34m(filepath_or_buffer, kwds)\u001b[0m\n\u001b[0;32m    486\u001b[0m \u001b[1;33m\u001b[0m\u001b[0m\n\u001b[0;32m    487\u001b[0m     \u001b[1;32mwith\u001b[0m \u001b[0mparser\u001b[0m\u001b[1;33m:\u001b[0m\u001b[1;33m\u001b[0m\u001b[1;33m\u001b[0m\u001b[0m\n\u001b[1;32m--> 488\u001b[1;33m         \u001b[1;32mreturn\u001b[0m \u001b[0mparser\u001b[0m\u001b[1;33m.\u001b[0m\u001b[0mread\u001b[0m\u001b[1;33m(\u001b[0m\u001b[0mnrows\u001b[0m\u001b[1;33m)\u001b[0m\u001b[1;33m\u001b[0m\u001b[1;33m\u001b[0m\u001b[0m\n\u001b[0m\u001b[0;32m    489\u001b[0m \u001b[1;33m\u001b[0m\u001b[0m\n\u001b[0;32m    490\u001b[0m \u001b[1;33m\u001b[0m\u001b[0m\n",
            "\u001b[1;32m~\\AppData\\Local\\Programs\\Python\\Python39\\lib\\site-packages\\pandas\\io\\parsers\\readers.py\u001b[0m in \u001b[0;36mread\u001b[1;34m(self, nrows)\u001b[0m\n\u001b[0;32m   1045\u001b[0m     \u001b[1;32mdef\u001b[0m \u001b[0mread\u001b[0m\u001b[1;33m(\u001b[0m\u001b[0mself\u001b[0m\u001b[1;33m,\u001b[0m \u001b[0mnrows\u001b[0m\u001b[1;33m=\u001b[0m\u001b[1;32mNone\u001b[0m\u001b[1;33m)\u001b[0m\u001b[1;33m:\u001b[0m\u001b[1;33m\u001b[0m\u001b[1;33m\u001b[0m\u001b[0m\n\u001b[0;32m   1046\u001b[0m         \u001b[0mnrows\u001b[0m \u001b[1;33m=\u001b[0m \u001b[0mvalidate_integer\u001b[0m\u001b[1;33m(\u001b[0m\u001b[1;34m\"nrows\"\u001b[0m\u001b[1;33m,\u001b[0m \u001b[0mnrows\u001b[0m\u001b[1;33m)\u001b[0m\u001b[1;33m\u001b[0m\u001b[1;33m\u001b[0m\u001b[0m\n\u001b[1;32m-> 1047\u001b[1;33m         \u001b[0mindex\u001b[0m\u001b[1;33m,\u001b[0m \u001b[0mcolumns\u001b[0m\u001b[1;33m,\u001b[0m \u001b[0mcol_dict\u001b[0m \u001b[1;33m=\u001b[0m \u001b[0mself\u001b[0m\u001b[1;33m.\u001b[0m\u001b[0m_engine\u001b[0m\u001b[1;33m.\u001b[0m\u001b[0mread\u001b[0m\u001b[1;33m(\u001b[0m\u001b[0mnrows\u001b[0m\u001b[1;33m)\u001b[0m\u001b[1;33m\u001b[0m\u001b[1;33m\u001b[0m\u001b[0m\n\u001b[0m\u001b[0;32m   1048\u001b[0m \u001b[1;33m\u001b[0m\u001b[0m\n\u001b[0;32m   1049\u001b[0m         \u001b[1;32mif\u001b[0m \u001b[0mindex\u001b[0m \u001b[1;32mis\u001b[0m \u001b[1;32mNone\u001b[0m\u001b[1;33m:\u001b[0m\u001b[1;33m\u001b[0m\u001b[1;33m\u001b[0m\u001b[0m\n",
            "\u001b[1;32m~\\AppData\\Local\\Programs\\Python\\Python39\\lib\\site-packages\\pandas\\io\\parsers\\c_parser_wrapper.py\u001b[0m in \u001b[0;36mread\u001b[1;34m(self, nrows)\u001b[0m\n\u001b[0;32m    221\u001b[0m         \u001b[1;32mtry\u001b[0m\u001b[1;33m:\u001b[0m\u001b[1;33m\u001b[0m\u001b[1;33m\u001b[0m\u001b[0m\n\u001b[0;32m    222\u001b[0m             \u001b[1;32mif\u001b[0m \u001b[0mself\u001b[0m\u001b[1;33m.\u001b[0m\u001b[0mlow_memory\u001b[0m\u001b[1;33m:\u001b[0m\u001b[1;33m\u001b[0m\u001b[1;33m\u001b[0m\u001b[0m\n\u001b[1;32m--> 223\u001b[1;33m                 \u001b[0mchunks\u001b[0m \u001b[1;33m=\u001b[0m \u001b[0mself\u001b[0m\u001b[1;33m.\u001b[0m\u001b[0m_reader\u001b[0m\u001b[1;33m.\u001b[0m\u001b[0mread_low_memory\u001b[0m\u001b[1;33m(\u001b[0m\u001b[0mnrows\u001b[0m\u001b[1;33m)\u001b[0m\u001b[1;33m\u001b[0m\u001b[1;33m\u001b[0m\u001b[0m\n\u001b[0m\u001b[0;32m    224\u001b[0m                 \u001b[1;31m# destructive to chunks\u001b[0m\u001b[1;33m\u001b[0m\u001b[1;33m\u001b[0m\u001b[1;33m\u001b[0m\u001b[0m\n\u001b[0;32m    225\u001b[0m                 \u001b[0mdata\u001b[0m \u001b[1;33m=\u001b[0m \u001b[0m_concatenate_chunks\u001b[0m\u001b[1;33m(\u001b[0m\u001b[0mchunks\u001b[0m\u001b[1;33m)\u001b[0m\u001b[1;33m\u001b[0m\u001b[1;33m\u001b[0m\u001b[0m\n",
            "\u001b[1;32m~\\AppData\\Local\\Programs\\Python\\Python39\\lib\\site-packages\\pandas\\_libs\\parsers.pyx\u001b[0m in \u001b[0;36mpandas._libs.parsers.TextReader.read_low_memory\u001b[1;34m()\u001b[0m\n",
            "\u001b[1;32m~\\AppData\\Local\\Programs\\Python\\Python39\\lib\\site-packages\\pandas\\_libs\\parsers.pyx\u001b[0m in \u001b[0;36mpandas._libs.parsers.TextReader._read_rows\u001b[1;34m()\u001b[0m\n",
            "\u001b[1;32m~\\AppData\\Local\\Programs\\Python\\Python39\\lib\\site-packages\\pandas\\_libs\\parsers.pyx\u001b[0m in \u001b[0;36mpandas._libs.parsers.TextReader._tokenize_rows\u001b[1;34m()\u001b[0m\n",
            "\u001b[1;32m~\\AppData\\Local\\Programs\\Python\\Python39\\lib\\site-packages\\pandas\\_libs\\parsers.pyx\u001b[0m in \u001b[0;36mpandas._libs.parsers.raise_parser_error\u001b[1;34m()\u001b[0m\n",
            "\u001b[1;31mParserError\u001b[0m: Error tokenizing data. C error: Expected 1 fields in line 120, saw 2\n"
          ]
        }
      ],
      "source": [
        "import pandas as pd\n",
        "url='CardioGoodFitness.csv'\n",
        "df_sports=pd.read_csv(url)\n",
        "df_sports"
      ]
    },
    {
      "cell_type": "markdown",
      "metadata": {},
      "source": [
        "1) \n",
        "## Tabla presenta los resultados para cada operacion:\n",
        "* ### En la primera fila, se encuentra la cantidad de datos recolectatos\n",
        "* ### En la segunda fila, se presenta el promedio de cada caracteristica\n",
        "* ### En la tercera fila, se presenta la desviacion estandar de cada caracteristica.\n",
        "* ### En la cuarta fila, se presenta el valor minimo de cada caracteristica\n",
        "* ### En la quinta fila, se presenta el 25% de los datos de cada caracteristica.\n",
        "* ### En la sexta fila, se presenta el 50% de los datos de cada caracteristica.\n",
        "* ### En la septima fila, se presenta el 75% de los datos de cada caracteristica.\n",
        "* ### En la octava fila, se presenta el valor maximo de cada caracteristica."
      ]
    },
    {
      "cell_type": "code",
      "execution_count": null,
      "metadata": {
        "id": "nIaUJJ9f0RIE"
      },
      "outputs": [
        {
          "data": {
            "text/html": [
              "<div>\n",
              "<style scoped>\n",
              "    .dataframe tbody tr th:only-of-type {\n",
              "        vertical-align: middle;\n",
              "    }\n",
              "\n",
              "    .dataframe tbody tr th {\n",
              "        vertical-align: top;\n",
              "    }\n",
              "\n",
              "    .dataframe thead th {\n",
              "        text-align: right;\n",
              "    }\n",
              "</style>\n",
              "<table border=\"1\" class=\"dataframe\">\n",
              "  <thead>\n",
              "    <tr style=\"text-align: right;\">\n",
              "      <th></th>\n",
              "      <th>Age</th>\n",
              "      <th>Education</th>\n",
              "      <th>Usage</th>\n",
              "      <th>Fitness</th>\n",
              "      <th>Income</th>\n",
              "      <th>Miles</th>\n",
              "    </tr>\n",
              "  </thead>\n",
              "  <tbody>\n",
              "    <tr>\n",
              "      <th>count</th>\n",
              "      <td>180.000000</td>\n",
              "      <td>180.000000</td>\n",
              "      <td>180.000000</td>\n",
              "      <td>180.000000</td>\n",
              "      <td>180.000000</td>\n",
              "      <td>180.000000</td>\n",
              "    </tr>\n",
              "    <tr>\n",
              "      <th>mean</th>\n",
              "      <td>28.788889</td>\n",
              "      <td>15.572222</td>\n",
              "      <td>3.455556</td>\n",
              "      <td>3.311111</td>\n",
              "      <td>53719.577778</td>\n",
              "      <td>103.194444</td>\n",
              "    </tr>\n",
              "    <tr>\n",
              "      <th>std</th>\n",
              "      <td>6.943498</td>\n",
              "      <td>1.617055</td>\n",
              "      <td>1.084797</td>\n",
              "      <td>0.958869</td>\n",
              "      <td>16506.684226</td>\n",
              "      <td>51.863605</td>\n",
              "    </tr>\n",
              "    <tr>\n",
              "      <th>min</th>\n",
              "      <td>18.000000</td>\n",
              "      <td>12.000000</td>\n",
              "      <td>2.000000</td>\n",
              "      <td>1.000000</td>\n",
              "      <td>29562.000000</td>\n",
              "      <td>21.000000</td>\n",
              "    </tr>\n",
              "    <tr>\n",
              "      <th>25%</th>\n",
              "      <td>24.000000</td>\n",
              "      <td>14.000000</td>\n",
              "      <td>3.000000</td>\n",
              "      <td>3.000000</td>\n",
              "      <td>44058.750000</td>\n",
              "      <td>66.000000</td>\n",
              "    </tr>\n",
              "    <tr>\n",
              "      <th>50%</th>\n",
              "      <td>26.000000</td>\n",
              "      <td>16.000000</td>\n",
              "      <td>3.000000</td>\n",
              "      <td>3.000000</td>\n",
              "      <td>50596.500000</td>\n",
              "      <td>94.000000</td>\n",
              "    </tr>\n",
              "    <tr>\n",
              "      <th>75%</th>\n",
              "      <td>33.000000</td>\n",
              "      <td>16.000000</td>\n",
              "      <td>4.000000</td>\n",
              "      <td>4.000000</td>\n",
              "      <td>58668.000000</td>\n",
              "      <td>114.750000</td>\n",
              "    </tr>\n",
              "    <tr>\n",
              "      <th>max</th>\n",
              "      <td>50.000000</td>\n",
              "      <td>21.000000</td>\n",
              "      <td>7.000000</td>\n",
              "      <td>5.000000</td>\n",
              "      <td>104581.000000</td>\n",
              "      <td>360.000000</td>\n",
              "    </tr>\n",
              "  </tbody>\n",
              "</table>\n",
              "</div>"
            ],
            "text/plain": [
              "              Age   Education       Usage     Fitness         Income  \\\n",
              "count  180.000000  180.000000  180.000000  180.000000     180.000000   \n",
              "mean    28.788889   15.572222    3.455556    3.311111   53719.577778   \n",
              "std      6.943498    1.617055    1.084797    0.958869   16506.684226   \n",
              "min     18.000000   12.000000    2.000000    1.000000   29562.000000   \n",
              "25%     24.000000   14.000000    3.000000    3.000000   44058.750000   \n",
              "50%     26.000000   16.000000    3.000000    3.000000   50596.500000   \n",
              "75%     33.000000   16.000000    4.000000    4.000000   58668.000000   \n",
              "max     50.000000   21.000000    7.000000    5.000000  104581.000000   \n",
              "\n",
              "            Miles  \n",
              "count  180.000000  \n",
              "mean   103.194444  \n",
              "std     51.863605  \n",
              "min     21.000000  \n",
              "25%     66.000000  \n",
              "50%     94.000000  \n",
              "75%    114.750000  \n",
              "max    360.000000  "
            ]
          },
          "execution_count": 52,
          "metadata": {},
          "output_type": "execute_result"
        }
      ],
      "source": [
        "#1\n",
        "df_sports.describe()"
      ]
    },
    {
      "cell_type": "markdown",
      "metadata": {},
      "source": [
        "2)\n",
        "## De los 9 datos, 3 son de tipo cualitativo:\n",
        "- ### Product\n",
        "- ### Gender\n",
        "- ### Marital Status\n",
        "## Mientras que los 6 restantes son de tipo cuantitativo:\n",
        "- ### Age\n",
        "- ### Education\n",
        "- ### Usage\n",
        "- ### Fitness\n",
        "- ### Income\n",
        "- ### Miles \n",
        "## De los 9 datos ninguno se encuentra vacio."
      ]
    },
    {
      "cell_type": "code",
      "execution_count": null,
      "metadata": {
        "id": "aoN_-sGz0l7i"
      },
      "outputs": [
        {
          "name": "stdout",
          "output_type": "stream",
          "text": [
            "<class 'pandas.core.frame.DataFrame'>\n",
            "RangeIndex: 180 entries, 0 to 179\n",
            "Data columns (total 9 columns):\n",
            " #   Column         Non-Null Count  Dtype \n",
            "---  ------         --------------  ----- \n",
            " 0   Product        180 non-null    object\n",
            " 1   Age            180 non-null    int64 \n",
            " 2   Gender         180 non-null    object\n",
            " 3   Education      180 non-null    int64 \n",
            " 4   MaritalStatus  180 non-null    object\n",
            " 5   Usage          180 non-null    int64 \n",
            " 6   Fitness        180 non-null    int64 \n",
            " 7   Income         180 non-null    int64 \n",
            " 8   Miles          180 non-null    int64 \n",
            "dtypes: int64(6), object(3)\n",
            "memory usage: 12.8+ KB\n"
          ]
        }
      ],
      "source": [
        "#2\n",
        "df_sports.info()"
      ]
    },
    {
      "cell_type": "markdown",
      "metadata": {},
      "source": [
        "3)\n",
        "## En el estudio, se obtuvo una muestra de 180 personas, con 9 caracteristicas en cada una."
      ]
    },
    {
      "cell_type": "code",
      "execution_count": null,
      "metadata": {
        "id": "ZxVKrZFC03Bf"
      },
      "outputs": [
        {
          "data": {
            "text/plain": [
              "(180, 9)"
            ]
          },
          "execution_count": 54,
          "metadata": {},
          "output_type": "execute_result"
        }
      ],
      "source": [
        "#3\n",
        "df_sports.shape"
      ]
    },
    {
      "cell_type": "markdown",
      "metadata": {},
      "source": [
        "4) \n",
        "## De las 9 caracteristicas, ninguno presenta un elemento vacío."
      ]
    },
    {
      "cell_type": "code",
      "execution_count": null,
      "metadata": {
        "id": "CGQS86kl1CLL"
      },
      "outputs": [
        {
          "data": {
            "text/plain": [
              "Product          False\n",
              "Age              False\n",
              "Gender           False\n",
              "Education        False\n",
              "MaritalStatus    False\n",
              "Usage            False\n",
              "Fitness          False\n",
              "Income           False\n",
              "Miles            False\n",
              "dtype: bool"
            ]
          },
          "execution_count": 55,
          "metadata": {},
          "output_type": "execute_result"
        }
      ],
      "source": [
        "#4\n",
        "df_sports.isna().any()"
      ]
    },
    {
      "cell_type": "markdown",
      "metadata": {},
      "source": [
        "5)\n",
        "* ## En el producto TM195, Hombre y Mujeres utilizan 40.\n",
        "* ## En el producto TM498, 29 mujeres utilizan ese producto, mientras que 31 hombre la utilizan\n",
        "* ## En el producto TM798, 7 mujeres utilizan ese producto, mientras que 33 hombre la utilizan"
      ]
    },
    {
      "cell_type": "code",
      "execution_count": null,
      "metadata": {
        "id": "eaf9yU0k1LgI"
      },
      "outputs": [
        {
          "data": {
            "text/html": [
              "<div>\n",
              "<style scoped>\n",
              "    .dataframe tbody tr th:only-of-type {\n",
              "        vertical-align: middle;\n",
              "    }\n",
              "\n",
              "    .dataframe tbody tr th {\n",
              "        vertical-align: top;\n",
              "    }\n",
              "\n",
              "    .dataframe thead th {\n",
              "        text-align: right;\n",
              "    }\n",
              "</style>\n",
              "<table border=\"1\" class=\"dataframe\">\n",
              "  <thead>\n",
              "    <tr style=\"text-align: right;\">\n",
              "      <th>Gender</th>\n",
              "      <th>Female</th>\n",
              "      <th>Male</th>\n",
              "    </tr>\n",
              "    <tr>\n",
              "      <th>Product</th>\n",
              "      <th></th>\n",
              "      <th></th>\n",
              "    </tr>\n",
              "  </thead>\n",
              "  <tbody>\n",
              "    <tr>\n",
              "      <th>TM195</th>\n",
              "      <td>40</td>\n",
              "      <td>40</td>\n",
              "    </tr>\n",
              "    <tr>\n",
              "      <th>TM498</th>\n",
              "      <td>29</td>\n",
              "      <td>31</td>\n",
              "    </tr>\n",
              "    <tr>\n",
              "      <th>TM798</th>\n",
              "      <td>7</td>\n",
              "      <td>33</td>\n",
              "    </tr>\n",
              "  </tbody>\n",
              "</table>\n",
              "</div>"
            ],
            "text/plain": [
              "Gender   Female  Male\n",
              "Product              \n",
              "TM195        40    40\n",
              "TM498        29    31\n",
              "TM798         7    33"
            ]
          },
          "execution_count": 56,
          "metadata": {},
          "output_type": "execute_result"
        }
      ],
      "source": [
        "#5\n",
        "pd.crosstab(df_sports['Product'],df_sports['Gender'])"
      ]
    },
    {
      "cell_type": "markdown",
      "metadata": {},
      "source": [
        "6. \n",
        "* ## De la muestra, 48 personas casadas utilizan el producto TM195, mientras que 32 personas solteras la utilizan.\n",
        "* ## 36 personas casadas utilizan el producto TM468, mientras que 24 personas solteras la utilizan.\n",
        "* ## 23 personas casadas utilizan el producto TM798, mientras que 17 personas solteras la utilizan"
      ]
    },
    {
      "cell_type": "code",
      "execution_count": null,
      "metadata": {
        "id": "NMkIwE4U10yC"
      },
      "outputs": [
        {
          "data": {
            "text/html": [
              "<div>\n",
              "<style scoped>\n",
              "    .dataframe tbody tr th:only-of-type {\n",
              "        vertical-align: middle;\n",
              "    }\n",
              "\n",
              "    .dataframe tbody tr th {\n",
              "        vertical-align: top;\n",
              "    }\n",
              "\n",
              "    .dataframe thead th {\n",
              "        text-align: right;\n",
              "    }\n",
              "</style>\n",
              "<table border=\"1\" class=\"dataframe\">\n",
              "  <thead>\n",
              "    <tr style=\"text-align: right;\">\n",
              "      <th>MaritalStatus</th>\n",
              "      <th>Partnered</th>\n",
              "      <th>Single</th>\n",
              "    </tr>\n",
              "    <tr>\n",
              "      <th>Product</th>\n",
              "      <th></th>\n",
              "      <th></th>\n",
              "    </tr>\n",
              "  </thead>\n",
              "  <tbody>\n",
              "    <tr>\n",
              "      <th>TM195</th>\n",
              "      <td>48</td>\n",
              "      <td>32</td>\n",
              "    </tr>\n",
              "    <tr>\n",
              "      <th>TM498</th>\n",
              "      <td>36</td>\n",
              "      <td>24</td>\n",
              "    </tr>\n",
              "    <tr>\n",
              "      <th>TM798</th>\n",
              "      <td>23</td>\n",
              "      <td>17</td>\n",
              "    </tr>\n",
              "  </tbody>\n",
              "</table>\n",
              "</div>"
            ],
            "text/plain": [
              "MaritalStatus  Partnered  Single\n",
              "Product                         \n",
              "TM195                 48      32\n",
              "TM498                 36      24\n",
              "TM798                 23      17"
            ]
          },
          "execution_count": 57,
          "metadata": {},
          "output_type": "execute_result"
        }
      ],
      "source": [
        "#6\n",
        "pd.crosstab(df_sports['Product'],df_sports['MaritalStatus'])"
      ]
    },
    {
      "cell_type": "markdown",
      "metadata": {},
      "source": [
        "7. "
      ]
    },
    {
      "cell_type": "code",
      "execution_count": null,
      "metadata": {
        "id": "1W6Z6oMO2sSK"
      },
      "outputs": [
        {
          "data": {
            "text/html": [
              "<div>\n",
              "<style scoped>\n",
              "    .dataframe tbody tr th:only-of-type {\n",
              "        vertical-align: middle;\n",
              "    }\n",
              "\n",
              "    .dataframe tbody tr th {\n",
              "        vertical-align: top;\n",
              "    }\n",
              "\n",
              "    .dataframe thead tr th {\n",
              "        text-align: left;\n",
              "    }\n",
              "\n",
              "    .dataframe thead tr:last-of-type th {\n",
              "        text-align: right;\n",
              "    }\n",
              "</style>\n",
              "<table border=\"1\" class=\"dataframe\">\n",
              "  <thead>\n",
              "    <tr>\n",
              "      <th></th>\n",
              "      <th></th>\n",
              "      <th colspan=\"12\" halign=\"left\">mean</th>\n",
              "    </tr>\n",
              "    <tr>\n",
              "      <th></th>\n",
              "      <th></th>\n",
              "      <th colspan=\"2\" halign=\"left\">Age</th>\n",
              "      <th colspan=\"2\" halign=\"left\">Education</th>\n",
              "      <th colspan=\"2\" halign=\"left\">Fitness</th>\n",
              "      <th colspan=\"2\" halign=\"left\">Income</th>\n",
              "      <th colspan=\"2\" halign=\"left\">Miles</th>\n",
              "      <th colspan=\"2\" halign=\"left\">Usage</th>\n",
              "    </tr>\n",
              "    <tr>\n",
              "      <th></th>\n",
              "      <th>MaritalStatus</th>\n",
              "      <th>Partnered</th>\n",
              "      <th>Single</th>\n",
              "      <th>Partnered</th>\n",
              "      <th>Single</th>\n",
              "      <th>Partnered</th>\n",
              "      <th>Single</th>\n",
              "      <th>Partnered</th>\n",
              "      <th>Single</th>\n",
              "      <th>Partnered</th>\n",
              "      <th>Single</th>\n",
              "      <th>Partnered</th>\n",
              "      <th>Single</th>\n",
              "    </tr>\n",
              "    <tr>\n",
              "      <th>Product</th>\n",
              "      <th>Gender</th>\n",
              "      <th></th>\n",
              "      <th></th>\n",
              "      <th></th>\n",
              "      <th></th>\n",
              "      <th></th>\n",
              "      <th></th>\n",
              "      <th></th>\n",
              "      <th></th>\n",
              "      <th></th>\n",
              "      <th></th>\n",
              "      <th></th>\n",
              "      <th></th>\n",
              "    </tr>\n",
              "  </thead>\n",
              "  <tbody>\n",
              "    <tr>\n",
              "      <th rowspan=\"2\" valign=\"top\">TM195</th>\n",
              "      <th>Female</th>\n",
              "      <td>28.333333</td>\n",
              "      <td>28.692308</td>\n",
              "      <td>14.888889</td>\n",
              "      <td>15.538462</td>\n",
              "      <td>2.851852</td>\n",
              "      <td>2.923077</td>\n",
              "      <td>46153.777778</td>\n",
              "      <td>45742.384615</td>\n",
              "      <td>74.925926</td>\n",
              "      <td>78.846154</td>\n",
              "      <td>2.851852</td>\n",
              "      <td>3.000000</td>\n",
              "    </tr>\n",
              "    <tr>\n",
              "      <th>Male</th>\n",
              "      <td>31.380952</td>\n",
              "      <td>25.631579</td>\n",
              "      <td>15.428571</td>\n",
              "      <td>14.473684</td>\n",
              "      <td>2.857143</td>\n",
              "      <td>3.263158</td>\n",
              "      <td>50028.000000</td>\n",
              "      <td>43265.842105</td>\n",
              "      <td>80.190476</td>\n",
              "      <td>99.526316</td>\n",
              "      <td>3.285714</td>\n",
              "      <td>3.263158</td>\n",
              "    </tr>\n",
              "    <tr>\n",
              "      <th rowspan=\"2\" valign=\"top\">TM498</th>\n",
              "      <th>Female</th>\n",
              "      <td>30.000000</td>\n",
              "      <td>28.142857</td>\n",
              "      <td>15.200000</td>\n",
              "      <td>15.214286</td>\n",
              "      <td>2.933333</td>\n",
              "      <td>2.785714</td>\n",
              "      <td>49724.800000</td>\n",
              "      <td>48920.357143</td>\n",
              "      <td>94.000000</td>\n",
              "      <td>80.214286</td>\n",
              "      <td>3.333333</td>\n",
              "      <td>2.928571</td>\n",
              "    </tr>\n",
              "    <tr>\n",
              "      <th>Male</th>\n",
              "      <td>30.380952</td>\n",
              "      <td>25.200000</td>\n",
              "      <td>15.285714</td>\n",
              "      <td>14.500000</td>\n",
              "      <td>2.904762</td>\n",
              "      <td>3.000000</td>\n",
              "      <td>49378.285714</td>\n",
              "      <td>47071.800000</td>\n",
              "      <td>87.238095</td>\n",
              "      <td>91.100000</td>\n",
              "      <td>2.857143</td>\n",
              "      <td>3.300000</td>\n",
              "    </tr>\n",
              "    <tr>\n",
              "      <th rowspan=\"2\" valign=\"top\">TM798</th>\n",
              "      <th>Female</th>\n",
              "      <td>29.000000</td>\n",
              "      <td>24.333333</td>\n",
              "      <td>17.500000</td>\n",
              "      <td>18.333333</td>\n",
              "      <td>5.000000</td>\n",
              "      <td>4.000000</td>\n",
              "      <td>84972.250000</td>\n",
              "      <td>58516.000000</td>\n",
              "      <td>215.000000</td>\n",
              "      <td>133.333333</td>\n",
              "      <td>5.250000</td>\n",
              "      <td>4.666667</td>\n",
              "    </tr>\n",
              "    <tr>\n",
              "      <th>Male</th>\n",
              "      <td>30.000000</td>\n",
              "      <td>28.928571</td>\n",
              "      <td>17.421053</td>\n",
              "      <td>16.928571</td>\n",
              "      <td>4.631579</td>\n",
              "      <td>4.642857</td>\n",
              "      <td>81431.368421</td>\n",
              "      <td>68216.428571</td>\n",
              "      <td>176.315789</td>\n",
              "      <td>147.571429</td>\n",
              "      <td>4.842105</td>\n",
              "      <td>4.571429</td>\n",
              "    </tr>\n",
              "  </tbody>\n",
              "</table>\n",
              "</div>"
            ],
            "text/plain": [
              "                     mean                                             \\\n",
              "                      Age             Education              Fitness   \n",
              "MaritalStatus   Partnered     Single  Partnered     Single Partnered   \n",
              "Product Gender                                                         \n",
              "TM195   Female  28.333333  28.692308  14.888889  15.538462  2.851852   \n",
              "        Male    31.380952  25.631579  15.428571  14.473684  2.857143   \n",
              "TM498   Female  30.000000  28.142857  15.200000  15.214286  2.933333   \n",
              "        Male    30.380952  25.200000  15.285714  14.500000  2.904762   \n",
              "TM798   Female  29.000000  24.333333  17.500000  18.333333  5.000000   \n",
              "        Male    30.000000  28.928571  17.421053  16.928571  4.631579   \n",
              "\n",
              "                                                                              \\\n",
              "                                Income                     Miles               \n",
              "MaritalStatus     Single     Partnered        Single   Partnered      Single   \n",
              "Product Gender                                                                 \n",
              "TM195   Female  2.923077  46153.777778  45742.384615   74.925926   78.846154   \n",
              "        Male    3.263158  50028.000000  43265.842105   80.190476   99.526316   \n",
              "TM498   Female  2.785714  49724.800000  48920.357143   94.000000   80.214286   \n",
              "        Male    3.000000  49378.285714  47071.800000   87.238095   91.100000   \n",
              "TM798   Female  4.000000  84972.250000  58516.000000  215.000000  133.333333   \n",
              "        Male    4.642857  81431.368421  68216.428571  176.315789  147.571429   \n",
              "\n",
              "                                    \n",
              "                   Usage            \n",
              "MaritalStatus  Partnered    Single  \n",
              "Product Gender                      \n",
              "TM195   Female  2.851852  3.000000  \n",
              "        Male    3.285714  3.263158  \n",
              "TM498   Female  3.333333  2.928571  \n",
              "        Male    2.857143  3.300000  \n",
              "TM798   Female  5.250000  4.666667  \n",
              "        Male    4.842105  4.571429  "
            ]
          },
          "execution_count": 58,
          "metadata": {},
          "output_type": "execute_result"
        }
      ],
      "source": [
        "#7\n",
        "pd.pivot_table(df_sports, index=['Product','Gender'],\n",
        "               columns=['MaritalStatus'], aggfunc=['mean'])"
      ]
    },
    {
      "cell_type": "markdown",
      "metadata": {},
      "source": [
        "8. \n",
        "* ## Cantidad de productos TM195: 80\n",
        "* ## Cantidad de productos TM498: 60\n",
        "* ## Cantidad de productos TM798: 40"
      ]
    },
    {
      "cell_type": "code",
      "execution_count": null,
      "metadata": {
        "id": "nluozALT5hRA"
      },
      "outputs": [
        {
          "name": "stdout",
          "output_type": "stream",
          "text": [
            "Product\n",
            "TM195    80\n",
            "TM498    60\n",
            "TM798    40\n",
            "dtype: int64\n"
          ]
        }
      ],
      "source": [
        "#8\n",
        "print(df_sports.groupby('Product').size())"
      ]
    },
    {
      "cell_type": "markdown",
      "metadata": {},
      "source": [
        "9. \n",
        "## El promedio de edad de la muestra es de 29 aproximadamente"
      ]
    },
    {
      "cell_type": "code",
      "execution_count": null,
      "metadata": {
        "id": "g1IS5-x54w9i"
      },
      "outputs": [
        {
          "data": {
            "text/plain": [
              "28.788888888888888"
            ]
          },
          "execution_count": 60,
          "metadata": {},
          "output_type": "execute_result"
        }
      ],
      "source": [
        "#9\n",
        "df_sports['Age'].mean()"
      ]
    },
    {
      "cell_type": "markdown",
      "metadata": {},
      "source": [
        "10. \n",
        "## EL promedio de los ingresos es de 50596.5"
      ]
    },
    {
      "cell_type": "code",
      "execution_count": null,
      "metadata": {
        "id": "Fto65tYf5HOo"
      },
      "outputs": [
        {
          "data": {
            "text/plain": [
              "50596.5"
            ]
          },
          "execution_count": 61,
          "metadata": {},
          "output_type": "execute_result"
        }
      ],
      "source": [
        "#10\n",
        "df_sports['Income'].median()"
      ]
    },
    {
      "cell_type": "markdown",
      "metadata": {},
      "source": [
        "11. \n",
        "## En la muestra, La desviacion estandar de la Edad es de 6.9435 aproximadamente"
      ]
    },
    {
      "cell_type": "code",
      "execution_count": null,
      "metadata": {
        "id": "YvcOBbYr5Oc1"
      },
      "outputs": [
        {
          "data": {
            "text/plain": [
              "6.943498135399795"
            ]
          },
          "execution_count": 62,
          "metadata": {},
          "output_type": "execute_result"
        }
      ],
      "source": [
        "#11\n",
        "df_sports['Age'].std()"
      ]
    },
    {
      "cell_type": "markdown",
      "metadata": {},
      "source": [
        "12. \n",
        "* ## Segun el gráfico, los hombres utilizan mas los productos que las mujeres.\n",
        "* ## Segun el grafico, el producto TM195 es el mas utilizado por ambos generos.\n",
        "* ## Segun el grafico, el producto TM498 seria la menos utilizada por ambos generos, en comparacion con el producto TM195.\n",
        "* ## Segun el gráfico, el producto TM798 es el menos utilizado por las mujeres, pero mas utilizado por los hombres en comparacion con el producto TM498."
      ]
    },
    {
      "cell_type": "code",
      "execution_count": null,
      "metadata": {
        "id": "f_9Fe-Hf2N_8"
      },
      "outputs": [
        {
          "data": {
            "text/plain": [
              "<AxesSubplot:xlabel='Product', ylabel='count'>"
            ]
          },
          "execution_count": 63,
          "metadata": {},
          "output_type": "execute_result"
        },
        {
          "data": {
            "image/png": "[encoded data removed]",
            "text/plain": [
              "<Figure size 720x288 with 1 Axes>"
            ]
          },
          "metadata": {
            "needs_background": "light"
          },
          "output_type": "display_data"
        }
      ],
      "source": [
        "#12\n",
        "import seaborn as sns\n",
        "sns.countplot(x='Product', hue='Gender',data=df_sports)\n"
      ]
    },
    {
      "cell_type": "markdown",
      "metadata": {},
      "source": [
        "13. "
      ]
    },
    {
      "cell_type": "code",
      "execution_count": null,
      "metadata": {
        "id": "CRHfkuvT-ioZ"
      },
      "outputs": [
        {
          "name": "stderr",
          "output_type": "stream",
          "text": [
            "C:\\Users\\Victor\\AppData\\Local\\Programs\\Python\\Python39\\lib\\site-packages\\seaborn\\distributions.py:2619: FutureWarning: `distplot` is a deprecated function and will be removed in a future version. Please adapt your code to use either `displot` (a figure-level function with similar flexibility) or `histplot` (an axes-level function for histograms).\n",
            "  warnings.warn(msg, FutureWarning)\n"
          ]
        },
        {
          "data": {
            "text/plain": [
              "<AxesSubplot:xlabel='Age', ylabel='Density'>"
            ]
          },
          "execution_count": 64,
          "metadata": {},
          "output_type": "execute_result"
        },
        {
          "data": {
            "image/png": "[encoded data removed]",
            "text/plain": [
              "<Figure size 720x288 with 1 Axes>"
            ]
          },
          "metadata": {
            "needs_background": "light"
          },
          "output_type": "display_data"
        }
      ],
      "source": [
        "#13\n",
        "sns.distplot(df_sports['Age'])"
      ]
    },
    {
      "cell_type": "markdown",
      "metadata": {},
      "source": [
        "14. \n",
        "## Según el gráfico, hay una gran cantidad de personas deportistas entre 25 a 27 años\n",
        "## Según el gráfico, hayn una minima cantidad de personas deportistas entre los 40 a 50 años"
      ]
    },
    {
      "cell_type": "code",
      "execution_count": null,
      "metadata": {
        "id": "l5GB5kkQ6fgk"
      },
      "outputs": [
        {
          "data": {
            "image/png": "[encoded data removed]",
            "text/plain": [
              "<Figure size 720x288 with 1 Axes>"
            ]
          },
          "metadata": {
            "needs_background": "light"
          },
          "output_type": "display_data"
        }
      ],
      "source": [
        "#14\n",
        "import matplotlib.pyplot as plt\n",
        "\n",
        "age_sports=df_sports['Age']\n",
        "\n",
        "\n",
        "plt.hist(age_sports, rwidth = 0.9, color=\"#25C647\",label=\"Age\") \n",
        "plt.title(\"Edad deportistas\")\n",
        "plt.xlabel(\"Edad\")\n",
        "plt.ylabel(\"Frecuencia\")\n",
        "plt.rcParams[\"figure.figsize\"] = (10, 5) #configuracion del tamaño de la imagen\n",
        "\n",
        "plt.show()\n",
        "\n",
        "# Una vez que ejecute ejecute el codigo para generar el grafico de tipo histograma, proceda a configurarlo (titulo,labels,color,otros)"
      ]
    },
    {
      "cell_type": "markdown",
      "metadata": {},
      "source": [
        "15. \n",
        "* ## El mayor numero de edad en mujeres deportistas es cerca de los 25 años, mientras que en los hombres es entre 25 a 27 aprox..\n",
        "* ## El menor numero de edad en mujeres deportistas es cerca de los 50 años, mientras que en los hombres se encuentra entre los 40 y 45.\n",
        "* ## No hay rango de edad entre los  40 y 45 en mujeres."
      ]
    },
    {
      "cell_type": "code",
      "execution_count": null,
      "metadata": {
        "id": "f6ztoswq_CRq"
      },
      "outputs": [
        {
          "data": {
            "text/plain": [
              "array([<AxesSubplot:title={'center':'Female'}>,\n",
              "       <AxesSubplot:title={'center':'Male'}>], dtype=object)"
            ]
          },
          "execution_count": 80,
          "metadata": {},
          "output_type": "execute_result"
        },
        {
          "data": {
            "image/png": "[encoded data removed]",
            "text/plain": [
              "<Figure size 1080x360 with 2 Axes>"
            ]
          },
          "metadata": {
            "needs_background": "light"
          },
          "output_type": "display_data"
        }
      ],
      "source": [
        "#15\n",
        "df_sports.hist(by='Gender',column='Age', rwidth = 0.7, figsize=(15,5))\n",
        "\n",
        "\n"
      ]
    },
    {
      "cell_type": "code",
      "execution_count": null,
      "metadata": {
        "id": "Sp1cPCFj_irp"
      },
      "outputs": [
        {
          "data": {
            "text/plain": [
              "array([<AxesSubplot:title={'center':'Female'}>,\n",
              "       <AxesSubplot:title={'center':'Male'}>], dtype=object)"
            ]
          },
          "execution_count": 67,
          "metadata": {},
          "output_type": "execute_result"
        },
        {
          "data": {
            "image/png": "[encoded data removed]",
            "text/plain": [
              "<Figure size 1080x360 with 2 Axes>"
            ]
          },
          "metadata": {
            "needs_background": "light"
          },
          "output_type": "display_data"
        }
      ],
      "source": [
        "#16\n",
        "df_sports.hist(by='Gender',column='Income',figsize=(15,5))"
      ]
    },
    {
      "cell_type": "markdown",
      "metadata": {},
      "source": [
        "17. \n",
        "* ## Según el gráfico, todos los productos, son utilizados por todas las edades de la muestra\n",
        "* ## El producto TM195, es el producto mas usado de los tres por las personas hasta los 50 años aproximadamente."
      ]
    },
    {
      "cell_type": "code",
      "execution_count": null,
      "metadata": {
        "id": "QB7KVloG7Wze"
      },
      "outputs": [
        {
          "data": {
            "image/png": "[encoded data removed]",
            "text/plain": [
              "<Figure size 720x360 with 1 Axes>"
            ]
          },
          "metadata": {
            "needs_background": "light"
          },
          "output_type": "display_data"
        }
      ],
      "source": [
        "#17\n",
        "plt.bar(df_sports['Product'],df_sports[\"Age\"], color = \"#802C2C\")\n",
        "plt.title(\"Uso de producto según edad de los deportistas\")\n",
        "plt.rcParams[\"figure.figsize\"] = (10, 4) \n",
        "plt.xlabel(\"Productos\")\n",
        "plt.ylabel(\"Edad\")\n",
        "plt.show()\n",
        "# Una vez que ejecute ejecute el codigo para generar el grafico de tipo histograma, proceda a configurarlo (titulo,labels,color, otros)"
      ]
    },
    {
      "cell_type": "markdown",
      "metadata": {},
      "source": [
        "18. \n",
        "* ## Los ingresos generados por el producto TM195 a variado entre los 30 mil hasta los 70 mil\n",
        "* ## Los ingresos generados por el producto TM498 a variado aprox. entre los 30 mil hasta los 70 mil\n",
        "* ## Los ingresos generados por el producto TM798 a variado entre los 50 mil superando los 100 mil"
      ]
    },
    {
      "cell_type": "code",
      "execution_count": null,
      "metadata": {
        "id": "OO5fP27y8cmJ"
      },
      "outputs": [
        {
          "data": {
            "image/png": "[encoded data removed]",
            "text/plain": [
              "<Figure size 720x288 with 1 Axes>"
            ]
          },
          "metadata": {
            "needs_background": "light"
          },
          "output_type": "display_data"
        }
      ],
      "source": [
        "#18\n",
        "plt.scatter(df_sports['Product'],df_sports[\"Income\"], color = \"y\")\n",
        "plt.title(\"Grafico Producto vs Ingreso\", fontsize=17)\n",
        "plt.xlabel(\"producto\", fontsize=15)\n",
        "plt.ylabel(\"ingresos\", fontsize=15)\n",
        "plt.show()\n",
        "\n",
        "# Una vez que ejecute ejecute el codigo para generar el grafico de tipo histograma, proceda a configurarlo (titulo,labels,color, otros)"
      ]
    },
    {
      "cell_type": "markdown",
      "metadata": {},
      "source": [
        "19. \n",
        "* ## Los valores que presentan correlacion 1, refleja la dependencia total entre ambas variables\n",
        "* ## Los valores que presentan correlacion entre 0 y 1, indica que es correlacion positiva."
      ]
    },
    {
      "cell_type": "code",
      "execution_count": null,
      "metadata": {
        "id": "n4_Kikym8-Kq"
      },
      "outputs": [
        {
          "name": "stdout",
          "output_type": "stream",
          "text": [
            "                Age  Education     Usage   Fitness    Income     Miles\n",
            "Age        1.000000   0.280496  0.015064  0.061105  0.513414  0.036618\n",
            "Education  0.280496   1.000000  0.395155  0.410581  0.625827  0.307284\n",
            "Usage      0.015064   0.395155  1.000000  0.668606  0.519537  0.759130\n",
            "Fitness    0.061105   0.410581  0.668606  1.000000  0.535005  0.785702\n",
            "Income     0.513414   0.625827  0.519537  0.535005  1.000000  0.543473\n",
            "Miles      0.036618   0.307284  0.759130  0.785702  0.543473  1.000000\n"
          ]
        }
      ],
      "source": [
        "#19\n",
        "print(df_sports.corr())"
      ]
    }
  ],
  "metadata": {
    "colab": {
      "collapsed_sections": [],
      "name": "Clase 07.ipynb",
      "provenance": []
    },
    "interpreter": {
      "hash": "e163f6dc755e3f5ee4e51757169cbf4c5bf61c999acb41dad94c865ecb280cf3"
    },
    "kernelspec": {
      "display_name": "Python 3.9.6 64-bit",
      "name": "python3"
    },
    "language_info": {
      "codemirror_mode": {
        "name": "ipython",
        "version": 3
      },
      "file_extension": ".py",
      "mimetype": "text/x-python",
      "name": "python",
      "nbconvert_exporter": "python",
      "pygments_lexer": "ipython3",
      "version": "3.9.6"
    }
  },
  "nbformat": 4,
  "nbformat_minor": 0
}
